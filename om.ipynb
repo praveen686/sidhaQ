{
 "cells": [
  {
   "cell_type": "code",
   "outputs": [
    {
     "name": "stdout",
     "output_type": "stream",
     "text": [
      "Om Ganeshaya Namaha\n"
     ]
    }
   ],
   "source": [
    "print('Om Ganeshaya Namaha')"
   ],
   "metadata": {
    "collapsed": false,
    "ExecuteTime": {
     "end_time": "2024-02-17T14:46:13.002434162Z",
     "start_time": "2024-02-17T14:46:12.997705638Z"
    }
   },
   "id": "initial_id",
   "execution_count": 9
  },
  {
   "cell_type": "code",
   "outputs": [],
   "source": [
    "# Imports\n",
    "from dotenv import load_dotenv\n",
    "from kiteconnect import KiteConnect\n",
    "import logging\n",
    "import datetime as dt\n",
    "import ray\n",
    "import os\n",
    "from brokers.zerodha.z_fetchOHLCV import fetch_ohlcv"
   ],
   "metadata": {
    "collapsed": false,
    "ExecuteTime": {
     "end_time": "2024-02-17T14:46:13.947422327Z",
     "start_time": "2024-02-17T14:46:13.944120106Z"
    }
   },
   "id": "831614493bb9edd9",
   "execution_count": 10
  },
  {
   "cell_type": "code",
   "outputs": [],
   "source": [
    "# Setup logging\n",
    "logging.basicConfig(level=logging.INFO, format='%(asctime)s - %(name)s - %(levelname)s - %(message)s')\n",
    "logger = logging.getLogger(__name__)"
   ],
   "metadata": {
    "collapsed": false,
    "ExecuteTime": {
     "end_time": "2024-02-17T14:46:14.737802922Z",
     "start_time": "2024-02-17T14:46:14.734509272Z"
    }
   },
   "id": "32b65e0dcd788686",
   "execution_count": 11
  },
  {
   "cell_type": "code",
   "outputs": [],
   "source": [
    "\"\"\"Securely fetches and returns a configured KiteConnect instance.\"\"\"\n",
    "load_dotenv()\n",
    "api_key = os.getenv('ZERODHA_API_KEY')"
   ],
   "metadata": {
    "collapsed": false,
    "ExecuteTime": {
     "end_time": "2024-02-17T14:47:28.029818927Z",
     "start_time": "2024-02-17T14:47:28.025313386Z"
    }
   },
   "id": "4f6d1ce6ade6a9c2",
   "execution_count": 17
  },
  {
   "cell_type": "code",
   "outputs": [],
   "source": [
    "# generate trading session\n",
    "access_token = open(\"brokers/zerodha/z_access_token.txt\",'r').read()\n",
    "kite = KiteConnect(api_key)\n",
    "kite.set_access_token(access_token)"
   ],
   "metadata": {
    "collapsed": false,
    "ExecuteTime": {
     "end_time": "2024-02-17T14:46:16.052166530Z",
     "start_time": "2024-02-17T14:46:16.048826023Z"
    }
   },
   "id": "11cbba6db6c21a4f",
   "execution_count": 13
  },
  {
   "cell_type": "code",
   "outputs": [
    {
     "name": "stderr",
     "output_type": "stream",
     "text": [
      "2024-02-17 20:16:20,137\tINFO worker.py:1715 -- Started a local Ray instance. View the dashboard at \u001B[1m\u001B[32m127.0.0.1:8265 \u001B[39m\u001B[22m\n",
      "\u001B[36m(fetch_ohlcv pid=24854)\u001B[0m 2024-02-17 20:16:21,501 - brokers.zerodha.z_utilities - INFO - Interval 1 day, 0:00:00 converted to Kite Connect format: day\n",
      "\u001B[36m(fetch_ohlcv pid=24854)\u001B[0m 2024-02-17 20:16:21,675 - brokers.zerodha.z_utilities - INFO - Instrument token for 'NIFTY BANK' found: 260105\n",
      "\u001B[36m(fetch_ohlcv pid=24902)\u001B[0m 2024-02-17 20:16:23,237 - brokers.zerodha.z_utilities - INFO - Instrument token for 'NIFTY 50' found: 256265\n",
      "\u001B[36m(fetch_ohlcv pid=24948)\u001B[0m 2024-02-17 20:16:24,219 - brokers.zerodha.z_utilities - INFO - Instrument token for 'NIFTY FIN SERVICE' found: 257801\n",
      "\u001B[36m(fetch_ohlcv pid=24948)\u001B[0m 2024-02-17 20:16:24,008 - brokers.zerodha.z_utilities - INFO - Interval 1 day, 0:00:00 converted to Kite Connect format: day\u001B[32m [repeated 2x across cluster] (Ray deduplicates logs by default. Set RAY_DEDUP_LOGS=0 to disable log deduplication, or see https://docs.ray.io/en/master/ray-observability/ray-logging.html#log-deduplication for more options.)\u001B[0m\n"
     ]
    },
    {
     "name": "stdout",
     "output_type": "stream",
     "text": [
      "Data for NIFTY BANK:                                open      high       low     close  volume\n",
      "date                                                                     \n",
      "2023-01-02 00:00:00+05:30  43038.25  43382.75  42961.75  43203.10       0\n",
      "2023-01-03 00:00:00+05:30  43151.45  43482.80  43148.45  43425.25       0\n",
      "2023-01-04 00:00:00+05:30  43417.50  43578.40  42858.65  42958.80       0\n",
      "2023-01-05 00:00:00+05:30  43073.05  43137.55  42298.60  42608.70       0\n",
      "2023-01-06 00:00:00+05:30  42649.70  42685.90  41877.00  42188.80       0\n",
      "Data for NIFTY 50:                                open      high       low     close  volume\n",
      "date                                                                     \n",
      "2023-01-02 00:00:00+05:30  18131.70  18215.15  18086.50  18197.45       0\n",
      "2023-01-03 00:00:00+05:30  18163.20  18251.95  18149.80  18232.55       0\n",
      "2023-01-04 00:00:00+05:30  18230.65  18243.00  18020.60  18042.95       0\n",
      "2023-01-05 00:00:00+05:30  18101.95  18120.30  17892.60  17992.15       0\n",
      "2023-01-06 00:00:00+05:30  18008.05  18047.40  17795.55  17859.45       0\n",
      "Data for NIFTY FIN SERVICE:                                open      high       low     close  volume\n",
      "date                                                                     \n",
      "2023-01-02 00:00:00+05:30  18982.50  19123.50  18937.15  19074.45       0\n",
      "2023-01-03 00:00:00+05:30  19041.55  19219.55  19041.55  19196.05       0\n",
      "2023-01-04 00:00:00+05:30  19172.60  19257.05  18966.75  19007.00       0\n",
      "2023-01-05 00:00:00+05:30  19042.15  19045.20  18670.15  18782.20       0\n",
      "2023-01-06 00:00:00+05:30  18808.65  18816.45  18500.10  18603.75       0\n"
     ]
    }
   ],
   "source": [
    "ray.init()\n",
    "\n",
    "symbols = ['NIFTY BANK', 'NIFTY 50', 'NIFTY FIN SERVICE']  \n",
    "from_date = dt.datetime(2023, 1, 1)  # Example start date\n",
    "to_date = dt.datetime(2023, 2, 1)    # Example end date\n",
    "interval = dt.timedelta(days=1)      # Example interval\n",
    "exchange = 'NSE'                     # Example exchange\n",
    "\n",
    "index = [fetch_ohlcv.remote(kite,symbol, from_date, to_date, interval, exchange) for symbol in symbols]\n",
    "results = ray.get(index)\n",
    "\n",
    "# Process or display your results\n",
    "for symbol, result in zip(symbols, results):\n",
    "    if result is not None:\n",
    "        print(f\"Data for {symbol}:\", result.head())\n",
    "    else:\n",
    "        print(f\"Failed to fetch data for {symbol}\")      \n",
    "ray.shutdown()    "
   ],
   "metadata": {
    "collapsed": false,
    "ExecuteTime": {
     "end_time": "2024-02-17T14:46:25.788275335Z",
     "start_time": "2024-02-17T14:46:16.689445636Z"
    }
   },
   "id": "28cfee7272c4ef72",
   "execution_count": 14
  },
  {
   "cell_type": "code",
   "outputs": [],
   "source": [],
   "metadata": {
    "collapsed": false
   },
   "id": "1070bc761b921722"
  }
 ],
 "metadata": {
  "kernelspec": {
   "display_name": "Python 3",
   "language": "python",
   "name": "python3"
  },
  "language_info": {
   "codemirror_mode": {
    "name": "ipython",
    "version": 2
   },
   "file_extension": ".py",
   "mimetype": "text/x-python",
   "name": "python",
   "nbconvert_exporter": "python",
   "pygments_lexer": "ipython2",
   "version": "2.7.6"
  }
 },
 "nbformat": 4,
 "nbformat_minor": 5
}
