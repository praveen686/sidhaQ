{
 "cells": [
  {
   "cell_type": "code",
   "execution_count": 9,
   "id": "initial_id",
   "metadata": {
    "ExecuteTime": {
     "end_time": "2024-02-17T15:05:30.510279733Z",
     "start_time": "2024-02-17T15:05:30.468458117Z"
    },
    "collapsed": false
   },
   "outputs": [
    {
     "name": "stdout",
     "output_type": "stream",
     "text": [
      "Om Ganeshaya Namaha\n"
     ]
    }
   ],
   "source": [
    "print('Om Ganeshaya Namaha')"
   ]
  },
  {
   "cell_type": "code",
   "execution_count": 10,
   "id": "831614493bb9edd9",
   "metadata": {
    "ExecuteTime": {
     "end_time": "2024-02-17T15:05:32.300112102Z",
     "start_time": "2024-02-17T15:05:32.298014032Z"
    },
    "collapsed": false
   },
   "outputs": [],
   "source": [
    "# Imports\n",
    "from dotenv import load_dotenv\n",
    "from kiteconnect import KiteConnect\n",
    "import logging\n",
    "import datetime as dt\n",
    "import ray\n",
    "import os\n",
    "from brokers.zerodha.z_fetchOHLCV import fetch_ohlcv"
   ]
  },
  {
   "cell_type": "code",
   "execution_count": 11,
   "id": "32b65e0dcd788686",
   "metadata": {
    "ExecuteTime": {
     "end_time": "2024-02-17T15:05:33.142464446Z",
     "start_time": "2024-02-17T15:05:33.137744801Z"
    },
    "collapsed": false
   },
   "outputs": [],
   "source": [
    "# Setup logging\n",
    "logging.basicConfig(level=logging.INFO, format='%(asctime)s - %(name)s - %(levelname)s - %(message)s')\n",
    "logger = logging.getLogger(__name__)"
   ]
  },
  {
   "cell_type": "code",
   "execution_count": 12,
   "id": "1eacd395",
   "metadata": {},
   "outputs": [
    {
     "data": {
      "text/plain": [
       "'n8o9wnb25ov492cq'"
      ]
     },
     "execution_count": 12,
     "metadata": {},
     "output_type": "execute_result"
    }
   ],
   "source": [
    "# Load environment variables\n",
    "dotenv_path = '/home/isoula/PycharmProjects/sidhaQ/brokers/zerodha/.env'\n",
    "load_dotenv(dotenv_path=dotenv_path)\n",
    "\n",
    "# Retrieve credentials and TOTP key from environment variables\n",
    "api_key = os.getenv('ZERODHA_API_KEY')\n",
    "api_key"
   ]
  },
  {
   "cell_type": "code",
   "execution_count": 13,
   "id": "11cbba6db6c21a4f",
   "metadata": {
    "ExecuteTime": {
     "end_time": "2024-02-17T15:05:52.762463913Z",
     "start_time": "2024-02-17T15:05:52.719053907Z"
    },
    "collapsed": false
   },
   "outputs": [
    {
     "data": {
      "text/plain": [
       "'s83zUxejcoHLOiV1PUk8Ih7aMyPNveFJ'"
      ]
     },
     "execution_count": 13,
     "metadata": {},
     "output_type": "execute_result"
    }
   ],
   "source": [
    "# generate trading session\n",
    "access_token = open(\"brokers/zerodha/z_access_token.txt\",'r').read()\n",
    "kite = KiteConnect(api_key)\n",
    "kite.set_access_token(access_token)\n",
    "kite.access_token"
   ]
  },
  {
   "cell_type": "code",
   "execution_count": 14,
   "id": "28cfee7272c4ef72",
   "metadata": {
    "ExecuteTime": {
     "end_time": "2024-02-17T15:06:23.424330989Z",
     "start_time": "2024-02-17T15:06:14.219751002Z"
    },
    "collapsed": false
   },
   "outputs": [
    {
     "name": "stderr",
     "output_type": "stream",
     "text": [
      "2024-02-18 09:32:51,658\tINFO worker.py:1715 -- Started a local Ray instance. View the dashboard at \u001b[1m\u001b[32m127.0.0.1:8265 \u001b[39m\u001b[22m\n",
      "\u001b[36m(fetch_ohlcv pid=7581)\u001b[0m 2024-02-18 09:32:53,133 - brokers.zerodha.z_utilities - INFO - Interval 1 day, 0:00:00 converted to Kite Connect format: day\n",
      "\u001b[36m(fetch_ohlcv pid=7581)\u001b[0m 2024-02-18 09:32:53,389 - brokers.zerodha.z_utilities - INFO - Instrument token for 'NIFTY BANK' found: 260105\n"
     ]
    },
    {
     "name": "stdout",
     "output_type": "stream",
     "text": [
      "\u001b[36m(fetch_ohlcv pid=7581)\u001b[0m Sample of converted data:\n",
      "\u001b[36m(fetch_ohlcv pid=7581)\u001b[0m                                open      high       low     close  volume\n",
      "\u001b[36m(fetch_ohlcv pid=7581)\u001b[0m date                                                                     \n",
      "\u001b[36m(fetch_ohlcv pid=7581)\u001b[0m 2023-01-02 00:00:00+05:30  43038.25  43382.75  42961.75  43203.10       0\n",
      "\u001b[36m(fetch_ohlcv pid=7581)\u001b[0m 2023-01-03 00:00:00+05:30  43151.45  43482.80  43148.45  43425.25       0\n",
      "\u001b[36m(fetch_ohlcv pid=7581)\u001b[0m 2023-01-04 00:00:00+05:30  43417.50  43578.40  42858.65  42958.80       0\n",
      "\u001b[36m(fetch_ohlcv pid=7581)\u001b[0m 2023-01-05 00:00:00+05:30  43073.05  43137.55  42298.60  42608.70       0\n",
      "\u001b[36m(fetch_ohlcv pid=7581)\u001b[0m 2023-01-06 00:00:00+05:30  42649.70  42685.90  41877.00  42188.80       0\n",
      "\u001b[36m(fetch_ohlcv pid=7581)\u001b[0m Data for NIFTY BANK saved to NIFTY BANK_historical_data.csv\n"
     ]
    },
    {
     "name": "stderr",
     "output_type": "stream",
     "text": [
      "\u001b[36m(fetch_ohlcv pid=7627)\u001b[0m 2024-02-18 09:32:54,496 - brokers.zerodha.z_utilities - INFO - Instrument token for 'NIFTY 50' found: 256265\n"
     ]
    },
    {
     "name": "stdout",
     "output_type": "stream",
     "text": [
      "\u001b[36m(fetch_ohlcv pid=7627)\u001b[0m Data for NIFTY 50 saved to NIFTY 50_historical_data.csv\n"
     ]
    },
    {
     "name": "stderr",
     "output_type": "stream",
     "text": [
      "\u001b[36m(fetch_ohlcv pid=7672)\u001b[0m 2024-02-18 09:32:56,242 - brokers.zerodha.z_utilities - INFO - Instrument token for 'NIFTY FIN SERVICE' found: 257801\n",
      "\u001b[36m(fetch_ohlcv pid=7672)\u001b[0m 2024-02-18 09:32:55,322 - brokers.zerodha.z_utilities - INFO - Interval 1 day, 0:00:00 converted to Kite Connect format: day\u001b[32m [repeated 2x across cluster]\u001b[0m\n"
     ]
    },
    {
     "name": "stdout",
     "output_type": "stream",
     "text": [
      "Data for NIFTY BANK:                                open      high       low     close  volume\n",
      "date                                                                     \n",
      "2023-01-02 00:00:00+05:30  43038.25  43382.75  42961.75  43203.10       0\n",
      "2023-01-03 00:00:00+05:30  43151.45  43482.80  43148.45  43425.25       0\n",
      "2023-01-04 00:00:00+05:30  43417.50  43578.40  42858.65  42958.80       0\n",
      "2023-01-05 00:00:00+05:30  43073.05  43137.55  42298.60  42608.70       0\n",
      "2023-01-06 00:00:00+05:30  42649.70  42685.90  41877.00  42188.80       0\n",
      "Data for NIFTY 50:                                open      high       low     close  volume\n",
      "date                                                                     \n",
      "2023-01-02 00:00:00+05:30  18131.70  18215.15  18086.50  18197.45       0\n",
      "2023-01-03 00:00:00+05:30  18163.20  18251.95  18149.80  18232.55       0\n",
      "2023-01-04 00:00:00+05:30  18230.65  18243.00  18020.60  18042.95       0\n",
      "2023-01-05 00:00:00+05:30  18101.95  18120.30  17892.60  17992.15       0\n",
      "2023-01-06 00:00:00+05:30  18008.05  18047.40  17795.55  17859.45       0\n",
      "Data for NIFTY FIN SERVICE:                                open      high       low     close  volume\n",
      "date                                                                     \n",
      "2023-01-02 00:00:00+05:30  18982.50  19123.50  18937.15  19074.45       0\n",
      "2023-01-03 00:00:00+05:30  19041.55  19219.55  19041.55  19196.05       0\n",
      "2023-01-04 00:00:00+05:30  19172.60  19257.05  18966.75  19007.00       0\n",
      "2023-01-05 00:00:00+05:30  19042.15  19045.20  18670.15  18782.20       0\n",
      "2023-01-06 00:00:00+05:30  18808.65  18816.45  18500.10  18603.75       0\n",
      "\u001b[36m(fetch_ohlcv pid=7627)\u001b[0m Sample of converted data:\n",
      "\u001b[36m(fetch_ohlcv pid=7627)\u001b[0m                                open      high       low     close  volume\n",
      "\u001b[36m(fetch_ohlcv pid=7627)\u001b[0m date                                                                     \n",
      "\u001b[36m(fetch_ohlcv pid=7627)\u001b[0m 2023-01-06 00:00:00+05:30  18008.05  18047.40  17795.55  17859.45       0\u001b[32m [repeated 5x across cluster]\u001b[0m\n"
     ]
    }
   ],
   "source": [
    "ray.init()\n",
    "\n",
    "symbols = ['NIFTY BANK', 'NIFTY 50', 'NIFTY FIN SERVICE']  \n",
    "from_date = dt.datetime(2023, 1, 1)  # Example start date\n",
    "to_date = dt.datetime(2023, 2, 1)    # Example end date\n",
    "interval = dt.timedelta(days=1)      # Example interval\n",
    "exchange = 'NSE'                     # Example exchange\n",
    "\n",
    "index = [fetch_ohlcv.remote(kite,symbol, from_date, to_date, interval, exchange) for symbol in symbols]\n",
    "results = ray.get(index)\n",
    "\n",
    "# Process or display your results\n",
    "for symbol, result in zip(symbols, results):\n",
    "    if result is not None:\n",
    "        print(f\"Data for {symbol}:\", result.head())\n",
    "    else:\n",
    "        print(f\"Failed to fetch data for {symbol}\")      \n",
    "ray.shutdown()    "
   ]
  }
 ],
 "metadata": {
  "kernelspec": {
   "display_name": "Python 3",
   "language": "python",
   "name": "python3"
  },
  "language_info": {
   "codemirror_mode": {
    "name": "ipython",
    "version": 3
   },
   "file_extension": ".py",
   "mimetype": "text/x-python",
   "name": "python",
   "nbconvert_exporter": "python",
   "pygments_lexer": "ipython3",
   "version": "3.10.13"
  }
 },
 "nbformat": 4,
 "nbformat_minor": 5
}
